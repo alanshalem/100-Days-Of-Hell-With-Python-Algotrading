{
 "cells": [
  {
   "cell_type": "code",
   "execution_count": 37,
   "metadata": {},
   "outputs": [],
   "source": [
    "import pandas as pd\n",
    "import numpy as np\n",
    "import time"
   ]
  },
  {
   "cell_type": "markdown",
   "metadata": {},
   "source": [
    "1. **Operators and Logical Expressions**  \n",
    "   - **Question**: You have a list of stock prices over 30 days. Write a logical expression that will identify consecutive price drops over three days or more. For instance, `[120, 118, 115, 110]` would qualify, but `[120, 118, 120, 110]` would not."
   ]
  },
  {
   "cell_type": "code",
   "execution_count": 38,
   "metadata": {},
   "outputs": [
    {
     "name": "stdout",
     "output_type": "stream",
     "text": [
      "True\n",
      "False\n"
     ]
    }
   ],
   "source": [
    "# 1. Identificar caídas consecutivas de precios durante 3 días o más\n",
    "def consecutive_drops(prices):\n",
    "    count = 0\n",
    "    for i in range(1, len(prices)):\n",
    "        if prices[i] < prices[i - 1]:\n",
    "            count += 1\n",
    "            if count >= 2:\n",
    "                return True\n",
    "        else:\n",
    "            count = 0\n",
    "    return False\n",
    "\n",
    "# Llamado a la función\n",
    "print(consecutive_drops([120, 118, 115, 110]))  # True\n",
    "print(consecutive_drops([120, 118, 120, 110]))  # False"
   ]
  },
  {
   "cell_type": "markdown",
   "metadata": {},
   "source": [
    "2. **If-Else Statements**  \n",
    "   - **Question**: You are designing an algorithm to trade stocks. If the current price of a stock is above the 30-day moving average, print `\"Buy Signal\"`; otherwise, print `\"Sell Signal\"`. Assume you have a list of daily prices and that the moving average can be calculated."
   ]
  },
  {
   "cell_type": "code",
   "execution_count": 39,
   "metadata": {},
   "outputs": [
    {
     "name": "stdout",
     "output_type": "stream",
     "text": [
      "Prices: [104, 97, 101, 98, 103, 97, 99, 97, 101, 99, 103, 101, 96, 98, 103, 96, 104, 103, 104, 99, 96, 98, 101, 102, 97, 95, 98, 96, 102, 98, 96, 100, 100, 104, 98]\n",
      "30-Day Moving Average: 99.37\n",
      "Sell Signal\n"
     ]
    }
   ],
   "source": [
    "def trading_signal(prices):\n",
    "    if len(prices) < 30:\n",
    "        print(\"Insufficient data for moving average\")\n",
    "        return\n",
    "    moving_avg = np.mean(prices[-30:])\n",
    "    print(f\"30-Day Moving Average: {moving_avg:.2f}\")\n",
    "    if prices[-1] > moving_avg:\n",
    "        print(\"Buy Signal\")\n",
    "    else:\n",
    "        print(\"Sell Signal\")\n",
    "\n",
    "# Generar una lista de precios simulada\n",
    "prices = [100 + np.random.randint(-5, 5) for _ in range(35)]\n",
    "print(\"Prices:\", prices)\n",
    "# Llamado a la función\n",
    "trading_signal(prices)\n"
   ]
  },
  {
   "cell_type": "markdown",
   "metadata": {},
   "source": [
    "3. **Modules (pandas)**  \n",
    "   - **Question**: Use the `pandas` library to load a CSV file containing historical trading data and calculate the daily percentage change of closing prices over a period of time."
   ]
  },
  {
   "cell_type": "code",
   "execution_count": 40,
   "metadata": {},
   "outputs": [
    {
     "name": "stdout",
     "output_type": "stream",
     "text": [
      "         Date  Close  Daily % Change\n",
      "0  2025-03-01    152             NaN\n",
      "1  2025-03-02    157        3.289474\n",
      "2  2025-03-03    156       -0.636943\n",
      "3  2025-03-04    158        1.282051\n",
      "4  2025-03-05    160        1.265823\n"
     ]
    }
   ],
   "source": [
    "import pandas as pd\n",
    "\n",
    "def calculate_daily_percentage_change(csv_file):\n",
    "    # Cargar el archivo CSV en un DataFrame\n",
    "    df = pd.read_csv(csv_file)\n",
    "\n",
    "    # Asegurar que la columna 'Close' existe en el CSV\n",
    "    if 'Close' not in df.columns:\n",
    "        print(\"Error: El archivo CSV no contiene una columna 'Close'.\")\n",
    "        return\n",
    "\n",
    "    # Calcular el cambio porcentual diario\n",
    "    df['Daily % Change'] = df['Close'].pct_change() * 100\n",
    "\n",
    "    # Mostrar las primeras filas con el cambio porcentual\n",
    "    print(df[['Date', 'Close', 'Daily % Change']].head())\n",
    "\n",
    "    return df\n",
    "\n",
    "# Llamado a la función con un archivo de ejemplo\n",
    "csv_file = \"historical_data.csv\"  # Asegúrate de tener un CSV con una columna 'Close' y 'Date'\n",
    "df_result = calculate_daily_percentage_change(csv_file)\n"
   ]
  },
  {
   "cell_type": "markdown",
   "metadata": {},
   "source": [
    "4. **While Loop**  \n",
    "   - **Question**: Create a loop that repeatedly checks a stock price from a real-time source every 10 seconds until the stock falls below a threshold value. In this scenario, print `\"Threshold Exceeded\"` when the threshold is crossed."
   ]
  },
  {
   "cell_type": "code",
   "execution_count": 41,
   "metadata": {},
   "outputs": [],
   "source": [
    "import time\n",
    "import requests\n",
    "\n",
    "def get_binance_price(symbol=\"BTCUSDT\"):\n",
    "    url = f\"https://api.binance.com/api/v3/ticker/price?symbol={symbol}\"\n",
    "    response = requests.get(url)\n",
    "    data = response.json()\n",
    "    return float(data[\"price\"])\n",
    "\n",
    "def check_stock_price(threshold, symbol=\"BTCUSDT\"):\n",
    "    while True:\n",
    "        stock_price = get_binance_price(symbol)\n",
    "        print(f\"Current {symbol} Price: {stock_price}\")\n",
    "\n",
    "        if stock_price < threshold:\n",
    "            print(\"Threshold Exceeded\")\n",
    "            break  # Salir del loop cuando se cruce el umbral\n",
    "\n",
    "        time.sleep(10)  # Espera 10 segundos antes de la próxima consulta\n",
    "\n",
    "# Definir el umbral y ejecutar la función\n",
    "threshold_value = 60000  # Cambia el umbral según el mercado\n",
    "# check_stock_price(threshold_value, \"BTCUSDT\")\n"
   ]
  },
  {
   "cell_type": "markdown",
   "metadata": {},
   "source": [
    "\n",
    "5. **For Loop**  \n",
    "   - **Question**: You have data on the opening and closing prices of multiple stocks in a portfolio. Using a for loop, calculate and print the total daily gain or loss for each stock in the portfolio."
   ]
  },
  {
   "cell_type": "code",
   "execution_count": 42,
   "metadata": {},
   "outputs": [
    {
     "name": "stdout",
     "output_type": "stream",
     "text": [
      "AAPL: +3.20 USD (1.83%)\n",
      "TSLA: -4.40 USD (-2.09%)\n",
      "GOOGL: +49.80 USD (1.81%)\n",
      "AMZN: -44.50 USD (-1.39%)\n"
     ]
    }
   ],
   "source": [
    "# Datos de ejemplo: Diccionario con precios de apertura y cierre de varias acciones\n",
    "portfolio = {\n",
    "    \"AAPL\": {\"open\": 175.3, \"close\": 178.5},\n",
    "    \"TSLA\": {\"open\": 210.1, \"close\": 205.7},\n",
    "    \"GOOGL\": {\"open\": 2750.4, \"close\": 2800.2},\n",
    "    \"AMZN\": {\"open\": 3200.0, \"close\": 3155.5},\n",
    "}\n",
    "\n",
    "# Iterar sobre el portafolio y calcular la ganancia/pérdida de cada acción\n",
    "for stock, prices in portfolio.items():\n",
    "    gain_loss = prices[\"close\"] - prices[\"open\"]  # Diferencia entre cierre y apertura\n",
    "    percentage = (gain_loss / prices[\"open\"]) * 100  # Cambio porcentual\n",
    "    print(f\"{stock}: {'+' if gain_loss > 0 else ''}{gain_loss:.2f} USD ({percentage:.2f}%)\")\n"
   ]
  },
  {
   "cell_type": "markdown",
   "metadata": {},
   "source": [
    "6. **Nested Loops**  \n",
    "   - **Question**: Create a nested loop that simulates a simple market-making strategy by placing buy and sell orders over a range of prices and volumes. Assume bid prices range from 90 to 100 and ask prices range from 101 to 110."
   ]
  },
  {
   "cell_type": "code",
   "execution_count": 43,
   "metadata": {},
   "outputs": [
    {
     "name": "stdout",
     "output_type": "stream",
     "text": [
      "Placing BID Order: Buy 1 units at $90\n",
      "Placing BID Order: Buy 2 units at $90\n",
      "Placing BID Order: Buy 3 units at $90\n",
      "Placing BID Order: Buy 4 units at $90\n",
      "Placing BID Order: Buy 5 units at $90\n",
      "Placing BID Order: Buy 1 units at $91\n",
      "Placing BID Order: Buy 2 units at $91\n",
      "Placing BID Order: Buy 3 units at $91\n",
      "Placing BID Order: Buy 4 units at $91\n",
      "Placing BID Order: Buy 5 units at $91\n",
      "Placing BID Order: Buy 1 units at $92\n",
      "Placing BID Order: Buy 2 units at $92\n",
      "Placing BID Order: Buy 3 units at $92\n",
      "Placing BID Order: Buy 4 units at $92\n",
      "Placing BID Order: Buy 5 units at $92\n",
      "Placing BID Order: Buy 1 units at $93\n",
      "Placing BID Order: Buy 2 units at $93\n",
      "Placing BID Order: Buy 3 units at $93\n",
      "Placing BID Order: Buy 4 units at $93\n",
      "Placing BID Order: Buy 5 units at $93\n",
      "Placing BID Order: Buy 1 units at $94\n",
      "Placing BID Order: Buy 2 units at $94\n",
      "Placing BID Order: Buy 3 units at $94\n",
      "Placing BID Order: Buy 4 units at $94\n",
      "Placing BID Order: Buy 5 units at $94\n",
      "Placing BID Order: Buy 1 units at $95\n",
      "Placing BID Order: Buy 2 units at $95\n",
      "Placing BID Order: Buy 3 units at $95\n",
      "Placing BID Order: Buy 4 units at $95\n",
      "Placing BID Order: Buy 5 units at $95\n",
      "Placing BID Order: Buy 1 units at $96\n",
      "Placing BID Order: Buy 2 units at $96\n",
      "Placing BID Order: Buy 3 units at $96\n",
      "Placing BID Order: Buy 4 units at $96\n",
      "Placing BID Order: Buy 5 units at $96\n",
      "Placing BID Order: Buy 1 units at $97\n",
      "Placing BID Order: Buy 2 units at $97\n",
      "Placing BID Order: Buy 3 units at $97\n",
      "Placing BID Order: Buy 4 units at $97\n",
      "Placing BID Order: Buy 5 units at $97\n",
      "Placing BID Order: Buy 1 units at $98\n",
      "Placing BID Order: Buy 2 units at $98\n",
      "Placing BID Order: Buy 3 units at $98\n",
      "Placing BID Order: Buy 4 units at $98\n",
      "Placing BID Order: Buy 5 units at $98\n",
      "Placing BID Order: Buy 1 units at $99\n",
      "Placing BID Order: Buy 2 units at $99\n",
      "Placing BID Order: Buy 3 units at $99\n",
      "Placing BID Order: Buy 4 units at $99\n",
      "Placing BID Order: Buy 5 units at $99\n",
      "Placing BID Order: Buy 1 units at $100\n",
      "Placing BID Order: Buy 2 units at $100\n",
      "Placing BID Order: Buy 3 units at $100\n",
      "Placing BID Order: Buy 4 units at $100\n",
      "Placing BID Order: Buy 5 units at $100\n",
      "----------------------------------------\n",
      "Placing ASK Order: Sell 1 units at $101\n",
      "Placing ASK Order: Sell 2 units at $101\n",
      "Placing ASK Order: Sell 3 units at $101\n",
      "Placing ASK Order: Sell 4 units at $101\n",
      "Placing ASK Order: Sell 5 units at $101\n",
      "Placing ASK Order: Sell 1 units at $102\n",
      "Placing ASK Order: Sell 2 units at $102\n",
      "Placing ASK Order: Sell 3 units at $102\n",
      "Placing ASK Order: Sell 4 units at $102\n",
      "Placing ASK Order: Sell 5 units at $102\n",
      "Placing ASK Order: Sell 1 units at $103\n",
      "Placing ASK Order: Sell 2 units at $103\n",
      "Placing ASK Order: Sell 3 units at $103\n",
      "Placing ASK Order: Sell 4 units at $103\n",
      "Placing ASK Order: Sell 5 units at $103\n",
      "Placing ASK Order: Sell 1 units at $104\n",
      "Placing ASK Order: Sell 2 units at $104\n",
      "Placing ASK Order: Sell 3 units at $104\n",
      "Placing ASK Order: Sell 4 units at $104\n",
      "Placing ASK Order: Sell 5 units at $104\n",
      "Placing ASK Order: Sell 1 units at $105\n",
      "Placing ASK Order: Sell 2 units at $105\n",
      "Placing ASK Order: Sell 3 units at $105\n",
      "Placing ASK Order: Sell 4 units at $105\n",
      "Placing ASK Order: Sell 5 units at $105\n",
      "Placing ASK Order: Sell 1 units at $106\n",
      "Placing ASK Order: Sell 2 units at $106\n",
      "Placing ASK Order: Sell 3 units at $106\n",
      "Placing ASK Order: Sell 4 units at $106\n",
      "Placing ASK Order: Sell 5 units at $106\n",
      "Placing ASK Order: Sell 1 units at $107\n",
      "Placing ASK Order: Sell 2 units at $107\n",
      "Placing ASK Order: Sell 3 units at $107\n",
      "Placing ASK Order: Sell 4 units at $107\n",
      "Placing ASK Order: Sell 5 units at $107\n",
      "Placing ASK Order: Sell 1 units at $108\n",
      "Placing ASK Order: Sell 2 units at $108\n",
      "Placing ASK Order: Sell 3 units at $108\n",
      "Placing ASK Order: Sell 4 units at $108\n",
      "Placing ASK Order: Sell 5 units at $108\n",
      "Placing ASK Order: Sell 1 units at $109\n",
      "Placing ASK Order: Sell 2 units at $109\n",
      "Placing ASK Order: Sell 3 units at $109\n",
      "Placing ASK Order: Sell 4 units at $109\n",
      "Placing ASK Order: Sell 5 units at $109\n",
      "Placing ASK Order: Sell 1 units at $110\n",
      "Placing ASK Order: Sell 2 units at $110\n",
      "Placing ASK Order: Sell 3 units at $110\n",
      "Placing ASK Order: Sell 4 units at $110\n",
      "Placing ASK Order: Sell 5 units at $110\n"
     ]
    }
   ],
   "source": [
    "# Rango de precios de compra (bids) y venta (asks)\n",
    "bid_prices = range(90, 101)  # 90 a 100 USD\n",
    "ask_prices = range(101, 111)  # 101 a 110 USD\n",
    "\n",
    "# Rango de volúmenes posibles por orden\n",
    "volumes = range(1, 6)  # De 1 a 5 unidades\n",
    "\n",
    "# Simulación de órdenes de compra y venta\n",
    "for bid in bid_prices:\n",
    "    for volume in volumes:\n",
    "        print(f\"Placing BID Order: Buy {volume} units at ${bid}\")\n",
    "\n",
    "print(\"-\" * 40)  # Separador entre BID y ASK\n",
    "\n",
    "for ask in ask_prices:\n",
    "    for volume in volumes:\n",
    "        print(f\"Placing ASK Order: Sell {volume} units at ${ask}\")\n"
   ]
  },
  {
   "cell_type": "markdown",
   "metadata": {},
   "source": [
    "7. **Complex If-Else Logic**  \n",
    "   - **Question**: You have a complex trading rule where a `\"Strong Buy\"` signal is given if the stock price is above both the 30-day and 50-day moving averages, a `\"Buy\"` signal is given if only above the 30-day, a `\"Hold\"` signal if above the 50-day, and a `\"Sell\"` signal otherwise. Calculate the signals assuming you have daily prices for at least 50 days."
   ]
  },
  {
   "cell_type": "code",
   "execution_count": 44,
   "metadata": {},
   "outputs": [
    {
     "name": "stdout",
     "output_type": "stream",
     "text": [
      "Current Price: 96.51, MA30: 99.93, MA50: 99.14 → Signal: Sell\n"
     ]
    }
   ],
   "source": [
    "import numpy as np\n",
    "\n",
    "def trading_signal(prices):\n",
    "    if len(prices) < 50:\n",
    "        print(\"Insufficient data for moving averages\")\n",
    "        return\n",
    "    \n",
    "    # Calcular medias móviles\n",
    "    ma_30 = np.mean(prices[-30:])  # Últimos 30 días\n",
    "    ma_50 = np.mean(prices[-50:])  # Últimos 50 días\n",
    "    current_price = prices[-1]  # Último precio disponible\n",
    "    \n",
    "    # Lógica de señales\n",
    "    if current_price > ma_30 and current_price > ma_50:\n",
    "        signal = \"Strong Buy\"\n",
    "    elif current_price > ma_30:\n",
    "        signal = \"Buy\"\n",
    "    elif current_price > ma_50:\n",
    "        signal = \"Hold\"\n",
    "    else:\n",
    "        signal = \"Sell\"\n",
    "\n",
    "    print(f\"Current Price: {current_price:.2f}, MA30: {ma_30:.2f}, MA50: {ma_50:.2f} → Signal: {signal}\")\n",
    "\n",
    "# Simulación: Lista de precios de los últimos 60 días (aleatorios)\n",
    "np.random.seed(42)\n",
    "simulated_prices = np.random.uniform(90, 110, 60)  # Precios entre 90 y 110 USD\n",
    "\n",
    "# Llamado a la función\n",
    "trading_signal(simulated_prices)\n"
   ]
  },
  {
   "cell_type": "markdown",
   "metadata": {},
   "source": [
    "8. **Modules (numpy)**  \n",
    "   - **Question**: Use the `numpy` module to calculate the rolling average for a window of 5 days over a numpy array containing 20 stock prices."
   ]
  },
  {
   "cell_type": "code",
   "execution_count": 45,
   "metadata": {},
   "outputs": [
    {
     "name": "stdout",
     "output_type": "stream",
     "text": [
      "Stock Prices: [ 97.49080238 109.01428613 104.63987884 101.97316968  93.12037281\n",
      "  93.11989041  91.16167224 107.32352292 102.02230023 104.16145156\n",
      "  90.41168989 109.39819704 106.64885282  94.24678221  93.63649934\n",
      "  93.6680902   96.08484486 100.49512863  98.63890037  95.8245828 ]\n",
      "5-Day Rolling Average: [101.24770197 100.37351957  96.8029968   97.33972561  97.34955172\n",
      "  99.55776747  99.01612737 102.66343233 102.52849831 100.9733947\n",
      "  98.86840426  99.51968432  96.85701389  95.62626905  96.50469268\n",
      "  96.94230937]\n"
     ]
    }
   ],
   "source": [
    "import numpy as np\n",
    "\n",
    "# Generar 20 precios de acciones aleatorios entre 90 y 110 USD\n",
    "np.random.seed(42)  # Semilla para reproducibilidad\n",
    "stock_prices = np.random.uniform(90, 110, 20)\n",
    "\n",
    "# Aplicamos la convolución para calcular el promedio móvil de 5 días\n",
    "rolling_avg = np.convolve(\n",
    "    stock_prices,  # Array con los precios de las acciones\n",
    "    np.ones(5) / 5,  # Filtro de media móvil: un array de 5 elementos con valores 1/5 cada uno\n",
    "    mode='valid'  # Modo 'valid' asegura que solo se calculen promedios donde haya suficientes datos\n",
    ")\n",
    "\n",
    "\"\"\"\n",
    "Explicación de np.convolve():\n",
    "- `np.ones(5) / 5` crea un array de 5 valores iguales a 1/5 → [0.2, 0.2, 0.2, 0.2, 0.2]\n",
    "- La convolución aplica este filtro a la serie de precios:\n",
    "  * Para cada grupo de 5 valores consecutivos en stock_prices,\n",
    "  * Se suman los valores multiplicados por 0.2 (equivalente a hacer un promedio),\n",
    "  * Se desplaza la ventana 1 posición hacia la derecha y repite el cálculo,\n",
    "  * Como `mode='valid'`, solo se incluyen los resultados donde haya 5 datos completos.\n",
    "  * Como resultado, obtenemos un array más corto (20 - 5 + 1 = 16 valores).\n",
    "\"\"\"\n",
    "\n",
    "# Imprimir resultados\n",
    "print(\"Stock Prices:\", stock_prices)\n",
    "print(\"5-Day Rolling Average:\", rolling_avg)"
   ]
  },
  {
   "cell_type": "markdown",
   "metadata": {},
   "source": [
    "9. **Optimization with Loops**  \n",
    "   - **Question**: Calculate the best day to buy and the best day to sell to maximize profit within a list of daily prices using a single pass of nested loops."
   ]
  },
  {
   "cell_type": "code",
   "execution_count": 46,
   "metadata": {},
   "outputs": [
    {
     "name": "stdout",
     "output_type": "stream",
     "text": [
      "Comprar en el día 8 a $90\n",
      "Vender en el día 9 a $140\n",
      "Ganancia máxima: $50\n"
     ]
    }
   ],
   "source": [
    "def max_profit(prices):\n",
    "    if not prices or len(prices) < 2:\n",
    "        return \"No hay suficientes datos para operar\"\n",
    "\n",
    "    min_price = prices[0]  # Precio mínimo inicial\n",
    "    min_day = 0  # Día de compra óptimo inicial\n",
    "    max_profit = 0  # Máxima ganancia encontrada\n",
    "    best_buy_day = 0  # Día óptimo para comprar\n",
    "    best_sell_day = 0  # Día óptimo para vender\n",
    "\n",
    "    for day in range(1, len(prices)):  # Recorremos desde el segundo día en adelante\n",
    "        potential_profit = prices[day] - min_price  # Calculamos la ganancia potencial si vendemos hoy\n",
    "        \n",
    "        if potential_profit > max_profit:  # Si encontramos una mayor ganancia\n",
    "            max_profit = potential_profit\n",
    "            best_buy_day = min_day  # Guardamos el mejor día para comprar\n",
    "            best_sell_day = day  # Guardamos el mejor día para vender\n",
    "\n",
    "        if prices[day] < min_price:  # Si encontramos un precio mínimo más bajo\n",
    "            min_price = prices[day]\n",
    "            min_day = day  # Guardamos el nuevo mejor día para comprar\n",
    "\n",
    "    return best_buy_day, best_sell_day, max_profit\n",
    "\n",
    "# 📌 Ejemplo con precios ficticios\n",
    "daily_prices = [100, 98, 105, 97, 110, 120, 95, 130, 90, 140]\n",
    "buy_day, sell_day, profit = max_profit(daily_prices)\n",
    "\n",
    "print(f\"Comprar en el día {buy_day} a ${daily_prices[buy_day]}\")\n",
    "print(f\"Vender en el día {sell_day} a ${daily_prices[sell_day]}\")\n",
    "print(f\"Ganancia máxima: ${profit}\")\n"
   ]
  },
  {
   "cell_type": "markdown",
   "metadata": {},
   "source": [
    "10. **Scenario Analysis**  \n",
    "   - **Question**: Given that a certain algorithm follows a strategy where every time a stock gains 5% in value from the last recorded price, the program places a sell order. Track the hypothetical prices over 15 days and identify when sell orders should be triggered."
   ]
  },
  {
   "cell_type": "code",
   "execution_count": 47,
   "metadata": {},
   "outputs": [
    {
     "name": "stdout",
     "output_type": "stream",
     "text": [
      "📌 Venta en el día 2 a $105\n",
      "📌 Venta en el día 5 a $116\n",
      "📌 Venta en el día 8 a $125\n",
      "📌 Venta en el día 10 a $137\n",
      "📌 Venta en el día 12 a $145\n",
      "📌 Venta en el día 14 a $160\n"
     ]
    }
   ],
   "source": [
    "def track_sell_orders(prices, threshold=0.05):\n",
    "    if not prices or len(prices) < 2:\n",
    "        return \"No hay suficientes datos para operar\"\n",
    "\n",
    "    last_sell_price = prices[0]  # Precio inicial de referencia\n",
    "    sell_orders = []  # Lista para almacenar los días de venta\n",
    "\n",
    "    for day in range(1, len(prices)):\n",
    "        price = prices[day]\n",
    "        \n",
    "        # Si el precio aumentó un 5% desde la última venta registrada\n",
    "        if price >= last_sell_price * (1 + threshold):\n",
    "            sell_orders.append((day, price))  # Guardamos el día y el precio\n",
    "            last_sell_price = price  # Actualizamos el precio de referencia para la próxima venta\n",
    "\n",
    "    return sell_orders\n",
    "\n",
    "# 📌 Simulación de precios en 15 días\n",
    "hypothetical_prices = [100, 102, 105, 107, 110, 116, 120, 119, 125, 130, 137, 140, 145, 150, 160]\n",
    "\n",
    "# 📌 Llamamos a la función\n",
    "sell_orders = track_sell_orders(hypothetical_prices)\n",
    "\n",
    "# 📌 Imprimimos los días y precios de venta\n",
    "for day, price in sell_orders:\n",
    "    print(f\"📌 Venta en el día {day} a ${price}\")\n"
   ]
  },
  {
   "cell_type": "markdown",
   "metadata": {},
   "source": [
    "### Python Mini Project 2 :\n",
    "\n",
    "Scenario: Simulated Stock Trading Bot\n",
    "\n",
    "**Objective:**\n",
    "Create a Python script that simulates trading over a dataset containing historical stock prices. The bot will decide whether to buy, hold, or sell based on the momentum calculated as the difference between the current price and the average price of the last few days.\n",
    "\n",
    "\n",
    "### Project Components:\n",
    "\n",
    "1. **Data Structure**:\n",
    "   - Use a list of tuples or dictionaries to simulate historical stock data with each element containing information about the stock price on a particular day.\n",
    "\n",
    "2. **Momentum Calculation**:\n",
    "   - Calculate the average price of the last N days and compare it with the current day's price to determine the momentum.\n",
    "\n",
    "3. **Trading Decisions**:\n",
    "   - Use if-else statements to make trading decisions based on the calculated momentum.\n",
    "\n",
    "4. **Trading Simulation**:\n",
    "   - Loop through the dataset and simulate trading decisions, updating the portfolio accordingly.\n",
    "\n",
    "5. **Performance Evaluation**:\n",
    "   - At the end of the simulation, calculate and print the final portfolio value and compare it with the initial value to gauge performance.\n",
    "\n",
    "### Skills and Python Features Used:\n",
    "- **Python Operators**: Use arithmetic operators to calculate averages, gains, and losses.\n",
    "- **Python if-else**: Make conditional decisions based on momentum and other trading indicators.\n",
    "- **Python Modules**: Use the `datetime` module for handling dates, `matplotlib` for plotting stock prices and portfolio value over time.\n",
    "- **Python While Loop**: Could be used to allow the simulation to run until a certain condition is met, like a stop-loss limit.\n",
    "- **Python for loop**: Iterate over each day in the stock dataset to simulate trading.\n",
    "\n",
    "\n"
   ]
  },
  {
   "cell_type": "code",
   "execution_count": null,
   "metadata": {},
   "outputs": [
    {
     "name": "stdout",
     "output_type": "stream",
     "text": [
      "Día 7: 📈 Comprado a $99.87\n",
      "Día 10: 📉 Vendido a $96.03\n",
      "Día 19: 📈 Comprado a $93.08\n",
      "Día 20: 📉 Vendido a $91.11\n",
      "Día 22: 📈 Comprado a $93.12\n",
      "Día 24: 📉 Vendido a $91.1\n"
     ]
    },
    {
     "data": {
      "image/png": "[encoded data removed]",
      "text/plain": [
       "<Figure size 640x480 with 1 Axes>"
      ]
     },
     "metadata": {},
     "output_type": "display_data"
    },
    {
     "name": "stdout",
     "output_type": "stream",
     "text": [
      "Valor final del portafolio: $992.17\n"
     ]
    }
   ],
   "source": [
    "import random\n",
    "import matplotlib.pyplot as plt\n",
    "\n",
    "# Simulación de datos históricos de precios de acciones\n",
    "def generate_stock_data(days=30, start_price=100):\n",
    "    stock_data = []\n",
    "    price = start_price\n",
    "    for day in range(1, days + 1):\n",
    "        price += random.uniform(-2, 2)  # Simula variaciones diarias en el precio\n",
    "        stock_data.append({\"day\": day, \"price\": round(price, 2)})\n",
    "    return stock_data\n",
    "\n",
    "# Cálculo del momentum y decisiones de trading\n",
    "def trading_simulation(stock_data, n=5, initial_cash=1000):\n",
    "    cash = initial_cash\n",
    "    stocks = 0\n",
    "    portfolio_value = []\n",
    "\n",
    "    for i in range(len(stock_data)):\n",
    "        current_price = stock_data[i][\"price\"]\n",
    "        if i >= n:\n",
    "            avg_price = sum(stock_data[j][\"price\"] for j in range(i - n, i)) / n # Media móvil de n días\n",
    "            momentum = current_price - avg_price\n",
    "            \n",
    "            if momentum > 1 and cash >= current_price:  # Señal de compra\n",
    "                stocks += 1\n",
    "                cash -= current_price\n",
    "                print(f\"Día {stock_data[i]['day']}: 📈 Comprado a ${current_price}\")\n",
    "            elif momentum < -1 and stocks > 0:  # Señal de venta\n",
    "                cash += current_price\n",
    "                stocks -= 1\n",
    "                print(f\"Día {stock_data[i]['day']}: 📉 Vendido a ${current_price}\")\n",
    "        \n",
    "        portfolio_value.append(cash + stocks * current_price)\n",
    "    \n",
    "    return portfolio_value, cash + stocks * stock_data[-1][\"price\"]\n",
    "\n",
    "# Simulación\n",
    "random.seed(42)\n",
    "stock_data = generate_stock_data()\n",
    "portfolio_history, final_value = trading_simulation(stock_data)\n",
    "\n",
    "# Gráfica de desempeño\n",
    "plt.plot(range(1, len(portfolio_history) + 1), portfolio_history, label=\"Valor del Portafolio\")\n",
    "plt.xlabel(\"Día\")\n",
    "plt.ylabel(\"Valor en $\")\n",
    "plt.legend()\n",
    "plt.title(\"Simulación de Trading Bot\")\n",
    "plt.show()\n",
    "\n",
    "print(f\"Valor final del portafolio: ${final_value:.2f}\")\n"
   ]
  }
 ],
 "metadata": {
  "kernelspec": {
   "display_name": "Python 3",
   "language": "python",
   "name": "python3"
  },
  "language_info": {
   "codemirror_mode": {
    "name": "ipython",
    "version": 3
   },
   "file_extension": ".py",
   "mimetype": "text/x-python",
   "name": "python",
   "nbconvert_exporter": "python",
   "pygments_lexer": "ipython3",
   "version": "3.12.9"
  }
 },
 "nbformat": 4,
 "nbformat_minor": 2
}
