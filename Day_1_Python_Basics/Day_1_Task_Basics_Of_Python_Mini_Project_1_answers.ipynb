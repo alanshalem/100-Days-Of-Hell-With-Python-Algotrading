{
 "cells": [
  {
   "cell_type": "markdown",
   "metadata": {},
   "source": [
    "1. Print a message about starting the trading session"
   ]
  },
  {
   "cell_type": "code",
   "execution_count": 21,
   "metadata": {},
   "outputs": [
    {
     "name": "stdout",
     "output_type": "stream",
     "text": [
      "Starting the trading session.\n"
     ]
    }
   ],
   "source": [
    "print(\"Starting the trading session.\")"
   ]
  },
  {
   "cell_type": "markdown",
   "metadata": {},
   "source": [
    "2.Create a variable stock_price that stores the current price of a stock as a floating-point number."
   ]
  },
  {
   "cell_type": "code",
   "execution_count": 22,
   "metadata": {},
   "outputs": [],
   "source": [
    "stock_price = 150.75  # Example price"
   ]
  },
  {
   "cell_type": "markdown",
   "metadata": {},
   "source": [
    "3.Assign the symbol AAPL to a variable named stock_symbol."
   ]
  },
  {
   "cell_type": "code",
   "execution_count": 23,
   "metadata": {},
   "outputs": [],
   "source": [
    "stock_symbol = \"AAPL\""
   ]
  },
  {
   "cell_type": "markdown",
   "metadata": {},
   "source": [
    "4.Add a comment explaining that the following code will initialize a trading balance variable with 10000."
   ]
  },
  {
   "cell_type": "code",
   "execution_count": 24,
   "metadata": {},
   "outputs": [],
   "source": [
    "trading_balance = 10000  # This variable holds the initial trading balance"
   ]
  },
  {
   "cell_type": "markdown",
   "metadata": {},
   "source": [
    "5.Identify and fix the syntax error in the following code snippet:\n",
    "   total_return = final_price - initial_price\n",
    "   print(total_return)"
   ]
  },
  {
   "cell_type": "code",
   "execution_count": 25,
   "metadata": {},
   "outputs": [
    {
     "name": "stdout",
     "output_type": "stream",
     "text": [
      "20\n"
     ]
    }
   ],
   "source": [
    "final_price = 200  # Example final price\n",
    "initial_price = 180  # Example initial price\n",
    "total_return = final_price - initial_price\n",
    "print(total_return)"
   ]
  },
  {
   "cell_type": "markdown",
   "metadata": {},
   "source": [
    "6.Write a program that asks the user for the quantity of a stock to buy and prints \"Buying X shares,\" where X is the input quantity."
   ]
  },
  {
   "cell_type": "code",
   "execution_count": 26,
   "metadata": {},
   "outputs": [
    {
     "name": "stdout",
     "output_type": "stream",
     "text": [
      "Buying 1 shares.\n"
     ]
    }
   ],
   "source": [
    "quantity = int(input(\"Enter the quantity of stock to buy: \"))\n",
    "print(f\"Buying {quantity} shares.\")"
   ]
  },
  {
   "cell_type": "markdown",
   "metadata": {},
   "source": [
    "7.Convert a string variable price_str holding the value \"89.50\" into a floating-point number."
   ]
  },
  {
   "cell_type": "code",
   "execution_count": 27,
   "metadata": {},
   "outputs": [],
   "source": [
    "price_str = \"89.50\"\n",
    "price_float = float(price_str)"
   ]
  },
  {
   "cell_type": "markdown",
   "metadata": {},
   "source": [
    "8.Define a list literal containing the stock symbols \"AAPL\", \"TSLA\", and \"GOOGL\"."
   ]
  },
  {
   "cell_type": "code",
   "execution_count": 28,
   "metadata": {},
   "outputs": [],
   "source": [
    "stock_symbols = [\"AAPL\", \"TSLA\", \"GOOGL\"]"
   ]
  },
  {
   "cell_type": "markdown",
   "metadata": {},
   "source": [
    "9.Write a print statement that outputs \"Stock XYZ is trading at $PRICE\", where XYZ is a variable symbol, and PRICE is a floating-point variable price."
   ]
  },
  {
   "cell_type": "code",
   "execution_count": 29,
   "metadata": {},
   "outputs": [
    {
     "name": "stdout",
     "output_type": "stream",
     "text": [
      "Stock XYZ is trading at $120.5\n"
     ]
    }
   ],
   "source": [
    "symbol = \"XYZ\"\n",
    "price = 120.50\n",
    "print(f\"Stock {symbol} is trading at ${price}\")"
   ]
  },
  {
   "cell_type": "markdown",
   "metadata": {},
   "source": [
    "10.Write a Python Program print_trade_summary(symbol, quantity, price) that accepts a stock symbol, the number of shares, and the price per share. It should print out a formatted summary of the total trade cost."
   ]
  },
  {
   "cell_type": "code",
   "execution_count": 30,
   "metadata": {},
   "outputs": [
    {
     "name": "stdout",
     "output_type": "stream",
     "text": [
      "Trade Summary:\n",
      "Symbol: AAPL\n",
      "Quantity: 10\n",
      "Price per share: $150.75\n",
      "Total Cost: $1507.5\n"
     ]
    }
   ],
   "source": [
    "def print_trade_summary(symbol, quantity, price):\n",
    "    total_cost = quantity * price\n",
    "    print(f\"Trade Summary:\\nSymbol: {symbol}\\nQuantity: {quantity}\\nPrice per share: ${price}\\nTotal Cost: ${total_cost}\")\n",
    "\n",
    "# Example function call\n",
    "print_trade_summary(\"AAPL\", 10, 150.75)"
   ]
  },
  {
   "cell_type": "markdown",
   "metadata": {},
   "source": [
    "**11.** Calculate the Daily Return on Investment (ROI)\n",
    "\n",
    "**Objective:** Prompt the user to enter the purchase price and the selling price of a stock, and calculate the ROI.\n"
   ]
  },
  {
   "cell_type": "code",
   "execution_count": 31,
   "metadata": {},
   "outputs": [
    {
     "name": "stdout",
     "output_type": "stream",
     "text": [
      "Daily ROI: 100.00%\n"
     ]
    }
   ],
   "source": [
    "purchase_price = float(input(\"Enter the purchase price: \"))\n",
    "selling_price = float(input(\"Enter the selling price: \"))\n",
    "roi = ((selling_price - purchase_price) / purchase_price) * 100\n",
    "print(f\"Daily ROI: {roi:.2f}%\")"
   ]
  },
  {
   "cell_type": "markdown",
   "metadata": {},
   "source": [
    "**12.** Determine the Average Price from User Inputs\n",
    "\n",
    "**Objective:** Ask the user to input three different prices of a stock throughout the day and compute the average.\n"
   ]
  },
  {
   "cell_type": "code",
   "execution_count": null,
   "metadata": {},
   "outputs": [],
   "source": [
    "price1 = float(input(\"Enter first price: \"))\n",
    "price2 = float(input(\"Enter second price: \"))\n",
    "price3 = float(input(\"Enter third price: \"))\n",
    "average_price = (price1 + price2 + price3) / 3\n",
    "print(f\"Average Stock Price: ${average_price:.2f}\")"
   ]
  },
  {
   "cell_type": "markdown",
   "metadata": {},
   "source": []
  },
  {
   "cell_type": "markdown",
   "metadata": {},
   "source": [
    "**13.** Compare Two Stock Prices\n",
    "\n",
    "**Objective:** Ask the user for the prices of two stocks and print which one is higher.\n",
    "\n"
   ]
  },
  {
   "cell_type": "code",
   "execution_count": null,
   "metadata": {},
   "outputs": [],
   "source": [
    "price_a = float(input(\"Enter price of stock A: \"))\n",
    "price_b = float(input(\"Enter price of stock B: \"))\n",
    "if price_a > price_b:\n",
    "    print(\"Stock A is more expensive.\")\n",
    "elif price_a < price_b:\n",
    "    print(\"Stock B is more expensive.\")\n",
    "else:\n",
    "    print(\"Both stocks have the same price.\")"
   ]
  },
  {
   "cell_type": "markdown",
   "metadata": {},
   "source": [
    "**14.** Break-Even Price Calculator\n",
    "\n",
    "**Objective:** Calculate the break-even price after buying a stock and spending money on fees.\n",
    "\n",
    "\n"
   ]
  },
  {
   "cell_type": "code",
   "execution_count": null,
   "metadata": {},
   "outputs": [],
   "source": [
    "cost_per_share = float(input(\"Enter cost per share: \"))\n",
    "fees = float(input(\"Enter total fees: \"))\n",
    "total_shares = int(input(\"Enter number of shares: \"))\n",
    "break_even_price = (cost_per_share * total_shares + fees) / total_shares\n",
    "print(f\"Break-even price: ${break_even_price:.2f}\")\n"
   ]
  },
  {
   "cell_type": "markdown",
   "metadata": {},
   "source": [
    "**15.** Display Stock Price Change\n",
    "\n",
    "**Objective:** Ask the user to enter yesterday's and today's stock prices, then print the change in price.\n",
    "\n",
    "\n"
   ]
  },
  {
   "cell_type": "code",
   "execution_count": null,
   "metadata": {},
   "outputs": [],
   "source": [
    "yesterday_price = float(input(\"Enter yesterday's stock price: \"))\n",
    "today_price = float(input(\"Enter today's stock price: \"))\n",
    "price_change = today_price - yesterday_price\n",
    "print(f\"Price change: ${price_change:.2f}\")"
   ]
  },
  {
   "cell_type": "markdown",
   "metadata": {},
   "source": [
    "**16.** Calculate Required Margin\n",
    "\n",
    "**Objective:** Calculate the required margin for a trade based on user inputs for trade size and margin rate.\n",
    "\n"
   ]
  },
  {
   "cell_type": "code",
   "execution_count": null,
   "metadata": {},
   "outputs": [],
   "source": [
    "trade_size = float(input(\"Enter trade size: \"))\n",
    "margin_rate = float(input(\"Enter margin rate (as decimal): \"))\n",
    "required_margin = trade_size * margin_rate\n",
    "print(f\"Required margin: ${required_margin:.2f}\")"
   ]
  },
  {
   "cell_type": "markdown",
   "metadata": {},
   "source": [
    "**17.** Convert Currency from User Input\n",
    "\n",
    "**Objective:** Ask the user for an amount in USD and a conversion rate, then convert it to another currency.\n",
    "\n",
    "\n"
   ]
  },
  {
   "cell_type": "code",
   "execution_count": null,
   "metadata": {},
   "outputs": [],
   "source": [
    "\n",
    "usd_amount = float(input(\"Enter amount in USD: \"))\n",
    "conversion_rate = float(input(\"Enter conversion rate: \"))\n",
    "converted_amount = usd_amount * conversion_rate\n",
    "print(f\"Converted amount: {converted_amount:.2f}\")"
   ]
  },
  {
   "cell_type": "markdown",
   "metadata": {},
   "source": [
    "**18.** Calculate the Weighted Average Price\n",
    "\n",
    "**Objective:** Calculate the weighted average price based on user inputs for different prices and their respective weights."
   ]
  },
  {
   "cell_type": "code",
   "execution_count": null,
   "metadata": {},
   "outputs": [],
   "source": [
    "price_1 = float(input(\"Enter first price: \"))\n",
    "weight_1 = float(input(\"Enter first weight: \"))\n",
    "price_2 = float(input(\"Enter second price: \"))\n",
    "weight_2 = float(input(\"Enter second weight: \"))\n",
    "weighted_average = (price_1 * weight_1 + price_2 * weight_2) / (weight_1 + weight_2)\n",
    "print(f\"Weighted Average Price: ${weighted_average:.2f}\")"
   ]
  },
  {
   "cell_type": "markdown",
   "metadata": {},
   "source": [
    "**19.** User Input to Adjust Stock Quantity\n",
    "\n",
    "**Objective:** Prompt the user for the current number of stocks, how many to buy, and how many to sell, then calculate the new total.\n",
    "\n",
    "\n",
    "\n"
   ]
  },
  {
   "cell_type": "code",
   "execution_count": null,
   "metadata": {},
   "outputs": [],
   "source": [
    "current_stocks = int(input(\"Enter current number of stocks: \"))\n",
    "buy_stocks = int(input(\"Enter number of stocks to buy: \"))\n",
    "sell_stocks = int(input(\"Enter number of stocks to sell: \"))\n",
    "total_stocks = current_stocks + buy_stocks - sell_stocks\n",
    "print(f\"New total stock quantity: {total_stocks}\")"
   ]
  },
  {
   "cell_type": "markdown",
   "metadata": {},
   "source": [
    "### Python Mini Project 1 :\n",
    "\n",
    "Scenario: Stock Data Entry and Analysis Tool\n",
    "\n",
    "**Objective:**\n",
    "Create a Python script that  will involve taking manual input for stock prices over a week and will calculate the average price. It should also demonstrate variable declaration, user input, and basic arithmetic using Python types.\n",
    "\n"
   ]
  },
  {
   "cell_type": "code",
   "execution_count": 58,
   "metadata": {},
   "outputs": [],
   "source": [
    "#Write your code here"
   ]
  }
 ],
 "metadata": {
  "kernelspec": {
   "display_name": "Python 3",
   "language": "python",
   "name": "python3"
  },
  "language_info": {
   "codemirror_mode": {
    "name": "ipython",
    "version": 3
   },
   "file_extension": ".py",
   "mimetype": "text/x-python",
   "name": "python",
   "nbconvert_exporter": "python",
   "pygments_lexer": "ipython3",
   "version": "3.13.2"
  }
 },
 "nbformat": 4,
 "nbformat_minor": 2
}
