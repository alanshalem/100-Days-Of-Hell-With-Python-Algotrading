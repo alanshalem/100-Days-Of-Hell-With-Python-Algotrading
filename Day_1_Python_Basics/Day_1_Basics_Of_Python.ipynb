{
 "cells": [
  {
   "cell_type": "markdown",
   "metadata": {},
   "source": [
    "## Unit 1 - Python Basics\n",
    "### Session 1: Basic Concepts In Python\n",
    "\n",
    "\n",
    "#### About Python \n",
    "- Definition :- Python is a high-level, interpreted programming language known for its clear syntax and readability. It supports multiple programming paradigms, including procedural, object-oriented, and functional programming. Python is widely used for web development, data analysis, artificial intelligence, scientific computing, and more.\n",
    "  "
   ]
  },
  {
   "cell_type": "code",
   "execution_count": 36,
   "metadata": {},
   "outputs": [],
   "source": [
    "#Why Python ?\n",
    "  #1.Design Philosopy\n",
    "  #2.Batteries Included\n",
    "  #3.General Purpose Programming Language\n",
    "  #4.Libraries/Community\n",
    "\n",
    "#Why Python for Algotrading ?\n",
    "  #1.Easy to learn\n",
    "  #2.Proximity with Maths\n",
    "  #3.Community"
   ]
  },
  {
   "cell_type": "markdown",
   "metadata": {},
   "source": [
    "#### Python Output/print function \n",
    "- Definition :- The print() function in Python is used to output data to the standard output device (screen). It can be used to print strings, numbers, or any other printable objects. This function is often used for displaying information or debugging.\n"
   ]
  },
  {
   "cell_type": "code",
   "execution_count": 37,
   "metadata": {},
   "outputs": [
    {
     "name": "stdout",
     "output_type": "stream",
     "text": [
      "Hello World!\n",
      "String-100-[1, 2, 3]-1.2-{'key': 'value'}\n",
      "Hello World!-This is QUANT TRADING-We are The Unstoppable\n"
     ]
    }
   ],
   "source": [
    "# Example of printing in Python\n",
    "\n",
    "# Printing a simple string\n",
    "print(\"Hello World!\")  # Output: Hello World!\n",
    "\n",
    "# Printing multiple data types in a single line\n",
    "# This includes a string, an integer, a list, a float, and a dictionary.\n",
    "# The 'sep' parameter defines the separator used between printed elements.\n",
    "print(\"String\", 100, [1, 2, 3], 1.2, {\"key\": \"value\"}, sep=\"-\")  \n",
    "# Output: String-100-[1, 2, 3]-1.2-{'key': 'value'}\n",
    "\n",
    "# Using the 'end' parameter in print\n",
    "# The 'end' argument defines what will be printed at the end instead of the default newline.\n",
    "print(\"Hello World!\", end=\"-\")  \n",
    "print(\"This is QUANT TRADING\", end=\"-\")  \n",
    "print(\"We are The Unstoppable\")  \n",
    "# Output: Hello World!-This is QUANT TRADING-We are The Unstoppable\n"
   ]
  },
  {
   "cell_type": "markdown",
   "metadata": {},
   "source": [
    "#### Python Data Types\n",
    "- Definition :- Data types in Python define the operations possible on the variables and the storage method. Common primary data types include integers (int), floating-point numbers (float), strings (str), and Booleans (bool). Python also supports complex data types like lists, tuples, sets, and dictionaries.\n"
   ]
  },
  {
   "cell_type": "code",
   "execution_count": 38,
   "metadata": {},
   "outputs": [
    {
     "name": "stdout",
     "output_type": "stream",
     "text": [
      "1\n",
      "<class 'int'>\n",
      "1.2\n",
      "<class 'float'>\n",
      "True\n",
      "<class 'bool'>\n",
      "100 Days of Hell with Python Algotrading\n",
      "<class 'str'>\n",
      "3.0\n",
      "<class 'complex'>\n",
      "[1, 2, 'Kuldeep', 1.2]\n",
      "<class 'list'>\n",
      "(1, 2, 'Kuldeep', 1.2)\n",
      "<class 'tuple'>\n",
      "{1, 2, 1.2, 'Kuldeep'}\n",
      "<class 'set'>\n",
      "dict_keys(['key1', 'key2', 'key3', 'key4'])\n",
      "<class 'dict'>\n",
      "<class 'int'>\n",
      "[1, 2, 'Kuldeep', 1.2, 'New Item']\n",
      "{'Another Item', 1, 2, 1.2, 'Kuldeep'}\n",
      "1\n",
      "True\n",
      "True\n",
      "True\n",
      "True\n"
     ]
    }
   ],
   "source": [
    "# Python Built-in Data Types\n",
    "\n",
    "# Integer (int) - Whole numbers, positive or negative\n",
    "print(1)  # Output: 1\n",
    "print(type(1))  # Output: <class 'int'>\n",
    "\n",
    "# Float (float) - Decimal numbers (floating point numbers)\n",
    "print(1.2)  # Output: 1.2\n",
    "print(type(1.2))  # Output: <class 'float'>\n",
    "\n",
    "# Boolean (bool) - True or False values\n",
    "print(True)  # Output: True\n",
    "print(type(True))  # Output: <class 'bool'>\n",
    "\n",
    "# String (str) - Sequence of characters, enclosed in quotes\n",
    "string_example = \"100 Days of Hell with Python Algotrading\"\n",
    "print(string_example)  # Output: 100 Days of Hell with Python Algotrading\n",
    "print(type(string_example))  # Output: <class 'str'>\n",
    "\n",
    "# Complex (complex) - Numbers with a real and imaginary part\n",
    "complex_number = 2 + 3j  # j represents the imaginary unit\n",
    "print(complex_number.imag)  # Output: 3.0 (imaginary part)\n",
    "print(type(complex_number))  # Output: <class 'complex'>\n",
    "\n",
    "# List (list) - Ordered, mutable (changeable) collection\n",
    "list_example = [1, 2, \"Kuldeep\", 1.2]  # Can contain multiple data types\n",
    "print(list_example)  # Output: [1, 2, 'Kuldeep', 1.2]\n",
    "print(type(list_example))  # Output: <class 'list'>\n",
    "\n",
    "# Tuple (tuple) - Ordered, immutable (cannot be changed) collection\n",
    "tuple_example = (1, 2, \"Kuldeep\", 1.2)\n",
    "print(tuple_example)  # Output: (1, 2, 'Kuldeep', 1.2)\n",
    "print(type(tuple_example))  # Output: <class 'tuple'>\n",
    "\n",
    "# Set (set) - Unordered collection of unique elements\n",
    "set_example = {1, 2, \"Kuldeep\", 1.2}\n",
    "print(set_example)  # Output: {'Kuldeep', 1, 2, 1.2} (order may vary)\n",
    "print(type(set_example))  # Output: <class 'set'>\n",
    "\n",
    "# Dictionary (dict) - Key-value pairs, unordered but indexed by keys\n",
    "dict_example = {\"key1\": 1, \"key2\": 2, \"key3\": \"Kuldeep\", \"key4\": 1.2}\n",
    "print(dict_example.keys())  # Output: dict_keys(['key1', 'key2', 'key3', 'key4'])\n",
    "print(type(dict_example))  # Output: <class 'dict'>\n",
    "\n",
    "# ---------------------------------------------\n",
    "# How to check the data type of any object?\n",
    "# Use the type() function\n",
    "example_var = 42  # Integer\n",
    "type_of_var = type(example_var)  # Returns <class 'int'>\n",
    "print(type_of_var)\n",
    "\n",
    "# ---------------------------------------------\n",
    "# Differences between list, tuple, set, and dictionary\n",
    "\n",
    "# LIST: Ordered, allows duplicates, mutable (can be modified)\n",
    "list_example.append(\"New Item\")  # We can add elements\n",
    "print(list_example)  # Output: Modified list\n",
    "\n",
    "# TUPLE: Ordered, allows duplicates, immutable (cannot be modified)\n",
    "# tuple_example.append(\"New Item\")  # This will raise an error, tuples cannot be changed\n",
    "\n",
    "# SET: Unordered, unique values, mutable (can add/remove elements but not modify existing ones)\n",
    "set_example.add(\"Another Item\")  # Adding a new element\n",
    "print(set_example)  # Output: Set with new unique elements\n",
    "\n",
    "# DICTIONARY: Key-value pairs, mutable, keys must be unique\n",
    "# Keys act as indexes instead of numerical positions\n",
    "print(dict_example[\"key1\"])  # Output: 1 (Accessing value by key)\n",
    "\n",
    "# ---------------------------------------------\n",
    "# Why are they all classes?\n",
    "# In Python, everything is an object. Objects are instances of classes.\n",
    "# These data types are actually instances of their respective classes, which define their behavior.\n",
    "# Example:\n",
    "print(isinstance(list_example, list))  # Output: True\n",
    "print(isinstance(tuple_example, tuple))  # Output: True\n",
    "\n",
    "# Even simple data types like integers and strings are objects of their respective classes.\n",
    "print(isinstance(10, int))  # Output: True\n",
    "print(isinstance(\"Hello\", str))  # Output: True\n",
    "\n",
    "# Each class defines how that data type behaves, including available methods and properties.\n"
   ]
  },
  {
   "cell_type": "markdown",
   "metadata": {},
   "source": [
    "#### Python Variables \n",
    "- Definition :- Variables in Python are names attached to particular objects or values. They are created through assignments and don’t need explicit declaration. Python is dynamically typed, which means the type of a variable is determined at runtime.\n"
   ]
  },
  {
   "cell_type": "code",
   "execution_count": 39,
   "metadata": {},
   "outputs": [
    {
     "name": "stdout",
     "output_type": "stream",
     "text": [
      "1 2 3\n",
      "1 1 1\n"
     ]
    }
   ],
   "source": [
    "# ---------------------------------------------\n",
    "# How to declare/create a variable?\n",
    "# Variables store values and can be reassigned\n",
    "\n",
    "a = 1  # Integer variable\n",
    "b = \"Apple Stocks\"  # String variable\n",
    "\n",
    "# Dynamic Typing: Python allows changing variable types\n",
    "a = 1  # Initially an integer\n",
    "b = \"Quant\"  # Reassigning a string\n",
    "\n",
    "# Dynamic Binding: A variable can hold different types over time\n",
    "a = 1  # Integer\n",
    "a = \"Quant\"  # Now a string\n",
    "a = [1, 2, 3]  # Now a list\n",
    "\n",
    "# Stylish techniques for variable declaration\n",
    "# Multiple assignment\n",
    "a, b, c = 1, 2, 3  # Assigning multiple values in one line\n",
    "print(a, b, c)  # Output: 1 2 3\n",
    "\n",
    "# Same value assignment\n",
    "a = b = c = 1  # All three variables hold the same value\n",
    "print(a, b, c)  # Output: 1 1 1\n"
   ]
  },
  {
   "cell_type": "markdown",
   "metadata": {},
   "source": [
    "#### Python comments \n",
    "- Definition :- Comments in Python are used to explain Python code and make it more readable. They are ignored by the Python interpreter. Single-line comments start with a hash symbol (#), and multi-line comments can be enclosed in triple quotes (\"\"\" or ''')."
   ]
  },
  {
   "cell_type": "code",
   "execution_count": 40,
   "metadata": {},
   "outputs": [
    {
     "data": {
      "text/plain": [
       "'  \\nThis is Kuldeep \\nand here is the example of \\nmultiline comments\\n\\n'"
      ]
     },
     "execution_count": 40,
     "metadata": {},
     "output_type": "execute_result"
    }
   ],
   "source": [
    "\n",
    "# Single Line\n",
    "# This is a which equal to one\n",
    "a = 1\n",
    "# Multiple Line\n",
    "'''  \n",
    "This is Kuldeep \n",
    "and here is the example of \n",
    "multiline comments\n",
    "\n",
    "'''"
   ]
  },
  {
   "cell_type": "markdown",
   "metadata": {},
   "source": [
    "#### Python Keywords and Identifiers \n",
    "- Definition :- Keywords are the reserved words in Python that cannot be used as ordinary identifiers. They define the syntax and structure of the Python language. Examples include if, for, and while. Identifiers are the names given to entities like classes, functions, variables, etc., and must start with a letter or an underscore followed by letters, digits, or underscores."
   ]
  },
  {
   "cell_type": "code",
   "execution_count": 41,
   "metadata": {},
   "outputs": [],
   "source": [
    "#Keywords\n",
    "a = 1\n",
    "def tock_data():\n",
    "    pass \n",
    "class Market_Analyser:\n",
    "    pass\n",
    "def __init__(self):\n",
    "    pass\n",
    "\n",
    "#Identifiers\n",
    "  # 1.Can't start with a digit\n",
    "  # 2.Can't use any special character except _\n",
    "  # 3.Identifiers can not be keywords"
   ]
  },
  {
   "cell_type": "markdown",
   "metadata": {},
   "source": [
    "#### Python User Input \n",
    "- Definition :- Python allows for user input; that is, it can take input from the user via the keyboard. The input() function reads a line from input, converts it into a string, and returns it.\n"
   ]
  },
  {
   "cell_type": "code",
   "execution_count": 42,
   "metadata": {},
   "outputs": [
    {
     "name": "stdout",
     "output_type": "stream",
     "text": [
      "<class 'int'>\n",
      "<class 'int'>\n",
      "The difference in Bitcoin price is: 1\n"
     ]
    }
   ],
   "source": [
    "# Prompt the user to enter the current price of Bitcoin\n",
    "current_price = int(input(\"What is the current price of Bitcoin? \"))\n",
    "\n",
    "# Prompt the user to enter the price of Bitcoin from the previous day\n",
    "yday_price = int(input(\"What was the price of Bitcoin yesterday? \"))\n",
    "\n",
    "# Calculate the price difference\n",
    "difference = current_price - yday_price\n",
    "\n",
    "# Display the data type of the entered variables\n",
    "print(type(current_price))  # Will display <class 'int'>\n",
    "print(type(yday_price))  # Will display <class 'int'>\n",
    "\n",
    "# Print the price difference\n",
    "print(f\"The difference in Bitcoin price is: {difference}\")\n"
   ]
  },
  {
   "cell_type": "markdown",
   "metadata": {},
   "source": [
    "#### Python Type conversion \n",
    "- Definition :- Type conversion in Python refers to the conversion of one data type into another. Python provides several built-in functions like int(), float(), and str() to perform conversions between data types explicitly.\n"
   ]
  },
  {
   "cell_type": "code",
   "execution_count": 43,
   "metadata": {},
   "outputs": [
    {
     "name": "stdout",
     "output_type": "stream",
     "text": [
      "300\n"
     ]
    }
   ],
   "source": [
    "# Implicit vs Explicit Type Conversion\n",
    "\n",
    "# Assigning an integer value\n",
    "price1 = 100  \n",
    "\n",
    "# Assigning a string representation of a number\n",
    "price2 = \"200\"  \n",
    "\n",
    "# Explicitly converting price2 to an integer before performing addition\n",
    "total = price1 + int(price2)  \n",
    "\n",
    "# Printing the total value\n",
    "print(total)  \n"
   ]
  },
  {
   "cell_type": "markdown",
   "metadata": {},
   "source": [
    "### **Python Literals**  \n",
    "\n",
    "#### **Definition:**  \n",
    "Literals in Python are fixed values assigned to variables or used directly in expressions. They represent constant values of different types. Python supports various types of literals, each serving a specific purpose:\n",
    "\n",
    "- **String Literals:** Represent text and can be enclosed in single (`'Hello'`), double (`\"World\"`), or triple quotes (`'''Multi-line string'''`).\n",
    "- **Numeric Literals:** Represent numbers and can be integers (`123`), floating-point numbers (`10.23`), or complex numbers (`1 + 2j`).\n",
    "- **Boolean Literals:** Represent truth values: `True` (equivalent to `1`) and `False` (equivalent to `0`).\n",
    "- **Binary, Octal, and Hexadecimal Literals:**  \n",
    "  - **Binary (`0b` prefix)**: `0b1001` (equal to `9` in decimal).  \n",
    "  - **Octal (`0o` prefix)**: `0o321` (equal to `209` in decimal).  \n",
    "  - **Hexadecimal (`0x` prefix)**: `0x21B` (equal to `539` in decimal).  \n",
    "- **Collection Literals:** Represent collections of values:\n",
    "  - **Lists (`[]`)**: `[1, 2, 3]`\n",
    "  - **Tuples (`()`)**: `(4, 5, 6)`\n",
    "  - **Dictionaries (`{}`)**: `{\"a\": 1, \"b\": 2}`\n",
    "  - **Sets (`{}`)**: `{10, 20, 30}`\n",
    "- **Unicode Literals:** Represent special characters, such as emojis (`u\"\\U0001F923\"` for 😂).\n",
    "- **Raw String Literals:** Treat backslashes (`\\`) as normal characters, preventing escape sequences from being interpreted (`r\"raw \\n string\"` keeps `\\n` as plain text).\n",
    "\n",
    "Literals are fundamental building blocks in Python, allowing developers to work with data efficiently and concisely."
   ]
  },
  {
   "cell_type": "code",
   "execution_count": 44,
   "metadata": {},
   "outputs": [],
   "source": [
    "# 1. Binary Literals\n",
    "a = 0b1001  # Binary (Base 2)\n",
    "\n",
    "# 2. Decimal Literals\n",
    "b = 301  # Decimal (Base 10)\n",
    "\n",
    "# 3. Octal Literals\n",
    "c = 0o321  # Octal (Base 8)\n",
    "\n",
    "# 4. Hexadecimal Literals\n",
    "d = 0x21b  # Hexadecimal (Base 16)\n",
    "\n",
    "# 5. Float Literals\n",
    "e = 1.2  # Floating-point number\n",
    "\n",
    "# 6. Complex Literals\n",
    "f = 1 + 2j  # Complex number with real and imaginary parts\n",
    "\n",
    "# 7. String Literals\n",
    "h = \"it's a string1\"  # String using double quotes to include a single quote\n",
    "\n",
    "# Different types of string literals:\n",
    "# Single quotes: ' '\n",
    "# Double quotes: \" \"\n",
    "# Triple quotes: ''' ''' (used for multi-line strings)\n",
    "\n",
    "# Unicode String (Example: Emoji characters)\n",
    "unicode_str = u\"\\U0001F923\\U0001F600\"  # Unicode for 😂 and 😀\n",
    "\n",
    "# Raw String (Ignores escape sequences)\n",
    "raw_str = r\"raw \\n string\"  # The \\n is not treated as a newline\n"
   ]
  },
  {
   "cell_type": "code",
   "execution_count": 45,
   "metadata": {},
   "outputs": [
    {
     "name": "stdout",
     "output_type": "stream",
     "text": [
      "raw \\n string\n"
     ]
    }
   ],
   "source": [
    "print(raw_str)"
   ]
  }
 ],
 "metadata": {
  "kernelspec": {
   "display_name": "Python 3",
   "language": "python",
   "name": "python3"
  },
  "language_info": {
   "codemirror_mode": {
    "name": "ipython",
    "version": 3
   },
   "file_extension": ".py",
   "mimetype": "text/x-python",
   "name": "python",
   "nbconvert_exporter": "python",
   "pygments_lexer": "ipython3",
   "version": "3.13.2"
  }
 },
 "nbformat": 4,
 "nbformat_minor": 2
}
