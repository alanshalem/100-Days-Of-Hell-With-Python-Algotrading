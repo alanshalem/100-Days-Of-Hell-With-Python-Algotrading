{
 "cells": [
  {
   "cell_type": "code",
   "execution_count": 1,
   "metadata": {},
   "outputs": [
    {
     "ename": "ModuleNotFoundError",
     "evalue": "No module named 'pandas_datareader'",
     "output_type": "error",
     "traceback": [
      "\u001b[31m---------------------------------------------------------------------------\u001b[39m",
      "\u001b[31mModuleNotFoundError\u001b[39m                       Traceback (most recent call last)",
      "\u001b[36mCell\u001b[39m\u001b[36m \u001b[39m\u001b[32mIn[1]\u001b[39m\u001b[32m, line 3\u001b[39m\n\u001b[32m      1\u001b[39m \u001b[38;5;28;01mimport\u001b[39;00m\u001b[38;5;250m \u001b[39m\u001b[34;01mpandas\u001b[39;00m\u001b[38;5;250m \u001b[39m\u001b[38;5;28;01mas\u001b[39;00m\u001b[38;5;250m \u001b[39m\u001b[34;01mpd\u001b[39;00m\n\u001b[32m      2\u001b[39m \u001b[38;5;28;01mimport\u001b[39;00m\u001b[38;5;250m \u001b[39m\u001b[34;01mnumpy\u001b[39;00m\u001b[38;5;250m \u001b[39m\u001b[38;5;28;01mas\u001b[39;00m\u001b[38;5;250m \u001b[39m\u001b[34;01mnp\u001b[39;00m\n\u001b[32m----> \u001b[39m\u001b[32m3\u001b[39m \u001b[38;5;28;01mimport\u001b[39;00m\u001b[38;5;250m \u001b[39m\u001b[34;01mpandas_datareader\u001b[39;00m\u001b[34;01m.\u001b[39;00m\u001b[34;01mdata\u001b[39;00m\u001b[38;5;250m \u001b[39m\u001b[38;5;28;01mas\u001b[39;00m\u001b[38;5;250m \u001b[39m\u001b[34;01mweb\u001b[39;00m\n\u001b[32m      4\u001b[39m \u001b[38;5;28;01mfrom\u001b[39;00m\u001b[38;5;250m \u001b[39m\u001b[34;01mdatetime\u001b[39;00m\u001b[38;5;250m \u001b[39m\u001b[38;5;28;01mimport\u001b[39;00m datetime\n\u001b[32m      5\u001b[39m \u001b[38;5;28;01mimport\u001b[39;00m\u001b[38;5;250m \u001b[39m\u001b[34;01mmatplotlib\u001b[39;00m\u001b[34;01m.\u001b[39;00m\u001b[34;01mpyplot\u001b[39;00m\u001b[38;5;250m \u001b[39m\u001b[38;5;28;01mas\u001b[39;00m\u001b[38;5;250m \u001b[39m\u001b[34;01mplt\u001b[39;00m\n",
      "\u001b[31mModuleNotFoundError\u001b[39m: No module named 'pandas_datareader'"
     ]
    }
   ],
   "source": [
    "import pandas as pd\n",
    "import numpy as np\n",
    "import pandas_datareader.data as web\n",
    "from datetime import datetime\n",
    "import matplotlib.pyplot as plt\n",
    "\n",
    "# Define the stock and time period for data fetching\n",
    "stock = 'AAPL'\n",
    "start = datetime(2020, 1, 1)\n",
    "end = datetime(2022, 1, 1)\n",
    "\n",
    "# Fetch the stock data from Yahoo Finance\n",
    "stock_data = web.DataReader(stock, 'yahoo', start, end)\n",
    "\n",
    "# Prepare data for regression\n",
    "# Use adjusted closing prices\n",
    "stock_data['Prev Close'] = stock_data['Adj Close'].shift(1)\n",
    "stock_data.dropna(inplace=True)  # Remove any rows with NaN values\n",
    "\n",
    "# Define the regression target and feature\n",
    "X = stock_data['Prev Close'].values.reshape(-1, 1)  # Features\n",
    "y = stock_data['Adj Close'].values  # Target\n",
    "\n",
    "# Setup for Simple Linear Regression\n",
    "# Initialize parameters\n",
    "theta_0 = 0  # Intercept\n",
    "theta_1 = 0  # Slope\n",
    "learning_rate = 0.01\n",
    "iterations = 1000\n",
    "\n",
    "# Gradient Descent Function\n",
    "def gradient_descent(X, y, theta_0, theta_1, learning_rate, iterations):\n",
    "    m = len(y)  # Number of data points\n",
    "    for _ in range(iterations):\n",
    "        prediction = theta_0 + theta_1 * X.flatten()\n",
    "        errors = prediction - y\n",
    "        theta_0 -= learning_rate * (1/m) * np.sum(errors)\n",
    "        theta_1 -= learning_rate * (1/m) * np.sum(errors * X.flatten())\n",
    "    return theta_0, theta_1\n",
    "\n",
    "# Run gradient descent\n",
    "theta_0, theta_1 = gradient_descent(X, y, theta_0, theta_1, learning_rate, iterations)\n",
    "\n",
    "# Plotting the results\n",
    "plt.figure(figsize=(12, 6))\n",
    "plt.scatter(X, y, color='blue', label='Actual Prices', alpha=0.5)\n",
    "plt.plot(X, theta_0 + theta_1 * X, color='red', label='Predicted Regression Line')\n",
    "plt.title('Simple Linear Regression on AAPL Stock Data')\n",
    "plt.xlabel('Previous Day Adjusted Closing Price')\n",
    "plt.ylabel('Adjusted Closing Price')\n",
    "plt.legend()\n",
    "plt.show()\n"
   ]
  },
  {
   "cell_type": "code",
   "execution_count": null,
   "metadata": {},
   "outputs": [],
   "source": []
  },
  {
   "cell_type": "code",
   "execution_count": null,
   "metadata": {},
   "outputs": [],
   "source": []
  }
 ],
 "metadata": {
  "kernelspec": {
   "display_name": "Python 3",
   "language": "python",
   "name": "python3"
  },
  "language_info": {
   "codemirror_mode": {
    "name": "ipython",
    "version": 3
   },
   "file_extension": ".py",
   "mimetype": "text/x-python",
   "name": "python",
   "nbconvert_exporter": "python",
   "pygments_lexer": "ipython3",
   "version": "3.12.9"
  }
 },
 "nbformat": 4,
 "nbformat_minor": 2
}
